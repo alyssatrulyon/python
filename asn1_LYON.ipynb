{
 "cells": [
  {
   "cell_type": "code",
   "execution_count": 3,
   "metadata": {},
   "outputs": [],
   "source": [
    "# five container variables with fruits/vegetables (1)\n",
    "basket = \"berries\""
   ]
  },
  {
   "cell_type": "code",
   "execution_count": 4,
   "metadata": {},
   "outputs": [
    {
     "name": "stdout",
     "output_type": "stream",
     "text": [
      "The basket contains berries\n"
     ]
    }
   ],
   "source": [
    "print \"The basket contains \" + basket"
   ]
  },
  {
   "cell_type": "code",
   "execution_count": 5,
   "metadata": {},
   "outputs": [],
   "source": [
    "# five container variables with fruits/vegetables cont. (1) \n",
    "box = \"apples\""
   ]
  },
  {
   "cell_type": "code",
   "execution_count": 6,
   "metadata": {},
   "outputs": [
    {
     "name": "stdout",
     "output_type": "stream",
     "text": [
      "The box contains apples\n"
     ]
    }
   ],
   "source": [
    "print \"The box contains \" + box"
   ]
  },
  {
   "cell_type": "code",
   "execution_count": 7,
   "metadata": {},
   "outputs": [],
   "source": [
    "# five container variables with fruits/vegetables cont. (1) \n",
    "bag = \"lemons\""
   ]
  },
  {
   "cell_type": "code",
   "execution_count": 9,
   "metadata": {},
   "outputs": [
    {
     "name": "stdout",
     "output_type": "stream",
     "text": [
      "The bag contains lemons\n"
     ]
    }
   ],
   "source": [
    "print \"The bag contains \" + bag"
   ]
  },
  {
   "cell_type": "code",
   "execution_count": 10,
   "metadata": {},
   "outputs": [],
   "source": [
    "# five container variables with fruits/vegetables cont. (1) \n",
    "pot = \"oranges\""
   ]
  },
  {
   "cell_type": "code",
   "execution_count": 11,
   "metadata": {},
   "outputs": [
    {
     "name": "stdout",
     "output_type": "stream",
     "text": [
      "The pot contains oranges\n"
     ]
    }
   ],
   "source": [
    "print \"The pot contains \" + pot"
   ]
  },
  {
   "cell_type": "code",
   "execution_count": 12,
   "metadata": {},
   "outputs": [],
   "source": [
    "# five container variables with fruits/vegetables cont. (1) \n",
    "drawer = \"kiwis\""
   ]
  },
  {
   "cell_type": "code",
   "execution_count": 13,
   "metadata": {},
   "outputs": [
    {
     "name": "stdout",
     "output_type": "stream",
     "text": [
      "The drawer contains kiwis\n"
     ]
    }
   ],
   "source": [
    "print \"The drawer contains \" + drawer"
   ]
  },
  {
   "cell_type": "code",
   "execution_count": 17,
   "metadata": {},
   "outputs": [],
   "source": [
    "#print out sentence with stored variables (2) \n",
    "beginning = \"Klavan said that producers have called my agent asking,  \""
   ]
  },
  {
   "cell_type": "code",
   "execution_count": 18,
   "metadata": {},
   "outputs": [],
   "source": [
    "# (2) \n",
    "end = \"Anything that lowers your odds is going to hurt.\""
   ]
  },
  {
   "cell_type": "code",
   "execution_count": 19,
   "metadata": {},
   "outputs": [
    {
     "name": "stdout",
     "output_type": "stream",
     "text": [
      "Klavan said that producers have called my agent asking,  'Why would you represent this guy?' Anything that lowers your odds is going to hurt.\n"
     ]
    }
   ],
   "source": [
    "#(2) \n",
    "print beginning + \"'Why would you represent this guy?' \" + end"
   ]
  },
  {
   "cell_type": "code",
   "execution_count": 20,
   "metadata": {},
   "outputs": [],
   "source": [
    "#This is a list (array) of presidents (3) \n",
    "presidents = [\"George Washington\", \"Ab Lincoln\", \"John F. Kennedy\", \"Franklin D. Roosevelt\", \"Herbert Hoover\"]"
   ]
  },
  {
   "cell_type": "code",
   "execution_count": 21,
   "metadata": {},
   "outputs": [
    {
     "data": {
      "text/plain": [
       "['George Washington',\n",
       " 'Ab Lincoln',\n",
       " 'John F. Kennedy',\n",
       " 'Franklin D. Roosevelt',\n",
       " 'Herbert Hoover']"
      ]
     },
     "execution_count": 21,
     "metadata": {},
     "output_type": "execute_result"
    }
   ],
   "source": [
    "#(3) \n",
    "presidents"
   ]
  },
  {
   "cell_type": "code",
   "execution_count": 23,
   "metadata": {},
   "outputs": [
    {
     "data": {
      "text/plain": [
       "'John F. Kennedy'"
      ]
     },
     "execution_count": 23,
     "metadata": {},
     "output_type": "execute_result"
    }
   ],
   "source": [
    "#(3) \n",
    "presidents[2] "
   ]
  },
  {
   "cell_type": "code",
   "execution_count": 28,
   "metadata": {},
   "outputs": [],
   "source": [
    "#this is an integer list (4) \n",
    "year = [1732, 1809, 1917, 1882, 1874]"
   ]
  },
  {
   "cell_type": "code",
   "execution_count": 29,
   "metadata": {},
   "outputs": [
    {
     "data": {
      "text/plain": [
       "[1732, 1809, 1917, 1882, 1874]"
      ]
     },
     "execution_count": 29,
     "metadata": {},
     "output_type": "execute_result"
    }
   ],
   "source": [
    "#(4) \n",
    "year"
   ]
  },
  {
   "cell_type": "code",
   "execution_count": 30,
   "metadata": {},
   "outputs": [
    {
     "data": {
      "text/plain": [
       "1874"
      ]
     },
     "execution_count": 30,
     "metadata": {},
     "output_type": "execute_result"
    }
   ],
   "source": [
    "#(4) \n",
    "year[4]"
   ]
  },
  {
   "cell_type": "code",
   "execution_count": 26,
   "metadata": {},
   "outputs": [],
   "source": [
    "#List of birth years that match up with list of presidents (5) \n",
    "birthyear = {\"George Washington\":1732, \"Ab Lincoln\":1809,\"John F. Kennedy\":1917,\"Franklin D. Roosevelt\":1882,\"Herbert Hoover\":1874}"
   ]
  },
  {
   "cell_type": "code",
   "execution_count": 27,
   "metadata": {},
   "outputs": [
    {
     "data": {
      "text/plain": [
       "{'Ab Lincoln': 1809,\n",
       " 'Franklin D. Roosevelt': 1882,\n",
       " 'George Washington': 1732,\n",
       " 'Herbert Hoover': 1874,\n",
       " 'John F. Kennedy': 1917}"
      ]
     },
     "execution_count": 27,
     "metadata": {},
     "output_type": "execute_result"
    }
   ],
   "source": [
    "#(5) \n",
    "birthyear"
   ]
  }
 ],
 "metadata": {
  "kernelspec": {
   "display_name": "Python 2",
   "language": "python",
   "name": "python2"
  },
  "language_info": {
   "codemirror_mode": {
    "name": "ipython",
    "version": 2
   },
   "file_extension": ".py",
   "mimetype": "text/x-python",
   "name": "python",
   "nbconvert_exporter": "python",
   "pygments_lexer": "ipython2",
   "version": "2.7.10"
  }
 },
 "nbformat": 4,
 "nbformat_minor": 2
}
